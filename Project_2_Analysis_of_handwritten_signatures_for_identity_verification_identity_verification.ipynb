{
  "nbformat": 4,
  "nbformat_minor": 0,
  "metadata": {
    "colab": {
      "name": "Project 2 : Analysis of handwritten signatures for identity verification identity verification",
      "provenance": [],
      "collapsed_sections": [],
      "toc_visible": true,
      "authorship_tag": "ABX9TyNrBwvHmUVe/AEGVyFOCQMq",
      "include_colab_link": true
    },
    "kernelspec": {
      "name": "python3",
      "display_name": "Python 3"
    },
    "language_info": {
      "name": "python"
    },
    "accelerator": "GPU"
  },
  "cells": [
    {
      "cell_type": "markdown",
      "metadata": {
        "id": "view-in-github",
        "colab_type": "text"
      },
      "source": [
        "<a href=\"https://colab.research.google.com/github/Ohm-T/Unsupervised-Classification/blob/main/Project_2_Analysis_of_handwritten_signatures_for_identity_verification_identity_verification.ipynb\" target=\"_parent\"><img src=\"https://colab.research.google.com/assets/colab-badge.svg\" alt=\"Open In Colab\"/></a>"
      ]
    },
    {
      "cell_type": "markdown",
      "source": [
        "># <font color='red'> PROJET 2 </font>\n",
        "\n",
        "\n",
        "\n",
        "\n",
        "\n",
        "\n",
        "---\n",
        "\n",
        "\n",
        "\n",
        ">## 1.   Data vizualisation 🌍\n",
        ">## 2.   Experimental work ⛑ \n",
        "- 1 ère partie Classification non-supervisées des personnes pour analyser l’apport de la mesure de complexité\n",
        "- 2 ème partie Classification non-supervisées des signatures (writer-independent)\n",
        "- 3 ème partie Apprentissage et généralisation\n"
      ],
      "metadata": {
        "id": "4iQFdreFfuJ9"
      }
    },
    {
      "cell_type": "code",
      "source": [
        ""
      ],
      "metadata": {
        "id": "1ymVxyUJf0zL"
      },
      "execution_count": null,
      "outputs": []
    },
    {
      "cell_type": "code",
      "source": [
        ""
      ],
      "metadata": {
        "id": "hu-7fEPYf1YD"
      },
      "execution_count": null,
      "outputs": []
    },
    {
      "cell_type": "code",
      "source": [
        ""
      ],
      "metadata": {
        "id": "m4VJSncogwAN"
      },
      "execution_count": null,
      "outputs": []
    }
  ]
}